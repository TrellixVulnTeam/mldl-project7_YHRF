{
 "cells": [
  {
   "cell_type": "code",
   "execution_count": null,
   "metadata": {},
   "outputs": [],
   "source": [
    "import torch\n",
    "import matplotlib.pyplot as plt\n",
    "from torch.utils.data import DataLoader"
   ]
  },
  {
   "cell_type": "code",
   "execution_count": null,
   "metadata": {},
   "outputs": [],
   "source": [
    "print(\"Cuda OK?:\", torch.cuda.is_available())\n",
    "print(\"Tensor test:\", torch.tensor([3, 4, 5], device='cuda'))\n",
    "\n",
    "for i in range(torch.cuda.device_count()):\n",
    "  print(torch.cuda.get_device_name(i))\n",
    "  print(torch.cuda.get_device_capability(i))\n",
    "  print(torch.cuda.get_device_properties(i))"
   ]
  },
  {
   "cell_type": "code",
   "execution_count": null,
   "metadata": {},
   "outputs": [],
   "source": [
    "import importlib\n",
    "import datasets as d\n",
    "importlib.reload(d)"
   ]
  },
  {
   "cell_type": "code",
   "execution_count": null,
   "metadata": {},
   "outputs": [],
   "source": [
    "rod = d.SynRODDataset('data2', image_size=118, train=True, download=True)\n",
    "loader = DataLoader(rod, 64, shuffle=False)\n",
    "\n",
    "rgb_image, d_image, label = next(iter(loader))"
   ]
  },
  {
   "cell_type": "code",
   "execution_count": null,
   "metadata": {},
   "outputs": [],
   "source": [
    "def show_image(t):\n",
    "  import numpy as np\n",
    "  img = t.numpy()\n",
    "  img = np.moveaxis(img, 0, 2)\n",
    "  plt.imshow(img)\n",
    "\n",
    "show_image(d_image[0])"
   ]
  }
 ],
 "metadata": {
  "interpreter": {
   "hash": "5ca6fba6cd343157984bf9ab78c17ea43484b522abbae068c469a0354c66129a"
  },
  "kernelspec": {
   "display_name": "Python 3.9.12 ('base')",
   "language": "python",
   "name": "python3"
  },
  "language_info": {
   "codemirror_mode": {
    "name": "ipython",
    "version": 3
   },
   "file_extension": ".py",
   "mimetype": "text/x-python",
   "name": "python",
   "nbconvert_exporter": "python",
   "pygments_lexer": "ipython3",
   "version": "3.9.12"
  },
  "orig_nbformat": 4
 },
 "nbformat": 4,
 "nbformat_minor": 2
}
