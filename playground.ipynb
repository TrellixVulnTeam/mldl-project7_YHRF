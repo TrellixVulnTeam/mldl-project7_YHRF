{
 "cells": [
  {
   "cell_type": "code",
   "execution_count": null,
   "metadata": {},
   "outputs": [],
   "source": [
    "import torch\n",
    "import matplotlib.pyplot as plt\n",
    "from torch.utils.data import DataLoader\n",
    "\n",
    "import importlib\n",
    "import datasets as d\n",
    "importlib.reload(d)\n",
    "\n",
    "import utils "
   ]
  },
  {
   "cell_type": "code",
   "execution_count": null,
   "metadata": {},
   "outputs": [],
   "source": [
    "print(\"Cuda OK?:\", torch.cuda.is_available())\n",
    "print(\"Tensor test:\", torch.tensor([3, 4, 5], device='cuda'))\n",
    "\n",
    "for i in range(torch.cuda.device_count()):\n",
    "  print(torch.cuda.get_device_name(i))\n",
    "  print(torch.cuda.get_device_capability(i))\n",
    "  # print(torch.cuda.get_device_properties(i))"
   ]
  },
  {
   "cell_type": "code",
   "execution_count": null,
   "metadata": {},
   "outputs": [],
   "source": [
    "rod = d.SynRODDataset('data', image_size=118, train=True, download=True)\n",
    "loader = DataLoader(rod, 64, shuffle=False)\n",
    "\n",
    "rgb_image, d_image, label = next(iter(loader))\n",
    "\n",
    "test_image = rgb_image[0]\n",
    "utils.show_image(test_image)"
   ]
  },
  {
   "cell_type": "code",
   "execution_count": null,
   "metadata": {},
   "outputs": [],
   "source": [
    "f, axarr = plt.subplots(1, 4, figsize=(10, 3))\n",
    "\n",
    "for r, ax in enumerate(axarr):\n",
    "  ax.set_title(f\"{r*90} deg\")\n",
    "  utils.show_image(utils.rotate_image(test_image, r), ax=ax)"
   ]
  }
 ],
 "metadata": {
  "interpreter": {
   "hash": "5ca6fba6cd343157984bf9ab78c17ea43484b522abbae068c469a0354c66129a"
  },
  "kernelspec": {
   "display_name": "Python 3.9.12 ('base')",
   "language": "python",
   "name": "python3"
  },
  "language_info": {
   "codemirror_mode": {
    "name": "ipython",
    "version": 3
   },
   "file_extension": ".py",
   "mimetype": "text/x-python",
   "name": "python",
   "nbconvert_exporter": "python",
   "pygments_lexer": "ipython3",
   "version": "3.9.12"
  },
  "orig_nbformat": 4
 },
 "nbformat": 4,
 "nbformat_minor": 2
}
